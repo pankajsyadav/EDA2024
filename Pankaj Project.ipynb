{
 "cells": [
  {
   "cell_type": "code",
   "execution_count": 14,
   "id": "764990fe-0bf5-40de-a3fa-49b28db89f77",
   "metadata": {},
   "outputs": [
    {
     "name": "stdout",
     "output_type": "stream",
     "text": [
      "Warning: Looks like you're using an outdated `kagglehub` version (installed: 0.3.6), please consider upgrading to the latest version (0.3.10).\n",
      "Path to dataset files: /Users/pyadav/.cache/kagglehub/datasets/benroshan/factors-affecting-campus-placement/versions/1\n"
     ]
    }
   ],
   "source": [
    "import kagglehub\n",
    "\n",
    "# Download latest version\n",
    "path = kagglehub.dataset_download(\"benroshan/factors-affecting-campus-placement\")\n",
    "print(\"Path to dataset files:\", path)"
   ]
  },
  {
   "cell_type": "code",
   "execution_count": 6,
   "id": "96526259-ea5e-4928-a07e-4217c8ac13a0",
   "metadata": {},
   "outputs": [
    {
     "name": "stdout",
     "output_type": "stream",
     "text": [
      "Warning: Looks like you're using an outdated `kagglehub` version (installed: 0.3.6), please consider upgrading to the latest version (0.3.10).\n",
      "Path to dataset files: /Users/pyadav/.cache/kagglehub/datasets/abhishekchavan2714/placements-dataset/versions/1\n"
     ]
    }
   ],
   "source": [
    "import numpy as np\n",
    "import pandas as pd\n",
    "import thinkstats2\n",
    "import thinkplot\n",
    "import scipy\n",
    "import math"
   ]
  },
  {
   "cell_type": "code",
   "execution_count": 12,
   "id": "b2cffc12-ee21-455b-80ad-367b0110be85",
   "metadata": {},
   "outputs": [
    {
     "name": "stdout",
     "output_type": "stream",
     "text": [
      "     sl_no gender  ssc_p    ssc_b  hsc_p    hsc_b     hsc_s  degree_p  \\\n",
      "0        1      M  67.00   Others  91.00   Others  Commerce     58.00   \n",
      "1        2      M  79.33  Central  78.33   Others   Science     77.48   \n",
      "2        3      M  65.00  Central  68.00  Central      Arts     64.00   \n",
      "3        4      M  56.00  Central  52.00  Central   Science     52.00   \n",
      "4        5      M  85.80  Central  73.60  Central  Commerce     73.30   \n",
      "..     ...    ...    ...      ...    ...      ...       ...       ...   \n",
      "210    211      M  80.60   Others  82.00   Others  Commerce     77.60   \n",
      "211    212      M  58.00   Others  60.00   Others   Science     72.00   \n",
      "212    213      M  67.00   Others  67.00   Others  Commerce     73.00   \n",
      "213    214      F  74.00   Others  66.00   Others  Commerce     58.00   \n",
      "214    215      M  62.00  Central  58.00   Others   Science     53.00   \n",
      "\n",
      "      degree_t workex  etest_p specialisation  mba_p      status    salary  \n",
      "0     Sci&Tech     No     55.0         Mkt&HR  58.80      Placed  270000.0  \n",
      "1     Sci&Tech    Yes     86.5        Mkt&Fin  66.28      Placed  200000.0  \n",
      "2    Comm&Mgmt     No     75.0        Mkt&Fin  57.80      Placed  250000.0  \n",
      "3     Sci&Tech     No     66.0         Mkt&HR  59.43  Not Placed       NaN  \n",
      "4    Comm&Mgmt     No     96.8        Mkt&Fin  55.50      Placed  425000.0  \n",
      "..         ...    ...      ...            ...    ...         ...       ...  \n",
      "210  Comm&Mgmt     No     91.0        Mkt&Fin  74.49      Placed  400000.0  \n",
      "211   Sci&Tech     No     74.0        Mkt&Fin  53.62      Placed  275000.0  \n",
      "212  Comm&Mgmt    Yes     59.0        Mkt&Fin  69.72      Placed  295000.0  \n",
      "213  Comm&Mgmt     No     70.0         Mkt&HR  60.23      Placed  204000.0  \n",
      "214  Comm&Mgmt     No     89.0         Mkt&HR  60.22  Not Placed       NaN  \n",
      "\n",
      "[215 rows x 15 columns]\n"
     ]
    }
   ],
   "source": [
    "#https://dataverse.harvard.edu/dataset.xhtml?persistentId=doi:10.7910/DVN/BFLEOK\n",
    "df = pd.read_csv(path + '/Placement_Data_Full_Class - Placement_Data_Full_Class.csv')\n",
    "print(df)"
   ]
  },
  {
   "cell_type": "code",
   "execution_count": 10,
   "id": "f442c277-2c8f-463f-a1bd-d91c083ac659",
   "metadata": {},
   "outputs": [
    {
     "name": "stdout",
     "output_type": "stream",
     "text": [
      "     sl_no gender  ssc_p    ssc_b  hsc_p    hsc_b     hsc_s  degree_p  \\\n",
      "0        1      M  67.00   Others  91.00   Others  Commerce     58.00   \n",
      "1        2      M  79.33  Central  78.33   Others   Science     77.48   \n",
      "2        3      M  65.00  Central  68.00  Central      Arts     64.00   \n",
      "3        4      M  56.00  Central  52.00  Central   Science     52.00   \n",
      "4        5      M  85.80  Central  73.60  Central  Commerce     73.30   \n",
      "..     ...    ...    ...      ...    ...      ...       ...       ...   \n",
      "210    211      M  80.60   Others  82.00   Others  Commerce     77.60   \n",
      "211    212      M  58.00   Others  60.00   Others   Science     72.00   \n",
      "212    213      M  67.00   Others  67.00   Others  Commerce     73.00   \n",
      "213    214      F  74.00   Others  66.00   Others  Commerce     58.00   \n",
      "214    215      M  62.00  Central  58.00   Others   Science     53.00   \n",
      "\n",
      "      degree_t workex  etest_p specialisation  mba_p      status    salary  \n",
      "0     Sci&Tech     No     55.0         Mkt&HR  58.80      Placed  270000.0  \n",
      "1     Sci&Tech    Yes     86.5        Mkt&Fin  66.28      Placed  200000.0  \n",
      "2    Comm&Mgmt     No     75.0        Mkt&Fin  57.80      Placed  250000.0  \n",
      "3     Sci&Tech     No     66.0         Mkt&HR  59.43  Not Placed       NaN  \n",
      "4    Comm&Mgmt     No     96.8        Mkt&Fin  55.50      Placed  425000.0  \n",
      "..         ...    ...      ...            ...    ...         ...       ...  \n",
      "210  Comm&Mgmt     No     91.0        Mkt&Fin  74.49      Placed  400000.0  \n",
      "211   Sci&Tech     No     74.0        Mkt&Fin  53.62      Placed  275000.0  \n",
      "212  Comm&Mgmt    Yes     59.0        Mkt&Fin  69.72      Placed  295000.0  \n",
      "213  Comm&Mgmt     No     70.0         Mkt&HR  60.23      Placed  204000.0  \n",
      "214  Comm&Mgmt     No     89.0         Mkt&HR  60.22  Not Placed       NaN  \n",
      "\n",
      "[215 rows x 15 columns]\n"
     ]
    }
   ],
   "source": []
  },
  {
   "cell_type": "code",
   "execution_count": 18,
   "id": "957e462c-1f13-4a13-8f31-14126b028dc3",
   "metadata": {},
   "outputs": [
    {
     "name": "stdout",
     "output_type": "stream",
     "text": [
      "     sl_no gender  ssc_p    ssc_b  hsc_p    hsc_b     hsc_s  degree_p  \\\n",
      "0        1      M  67.00   Others  91.00   Others  Commerce     58.00   \n",
      "1        2      M  79.33  Central  78.33   Others   Science     77.48   \n",
      "2        3      M  65.00  Central  68.00  Central      Arts     64.00   \n",
      "3        4      M  56.00  Central  52.00  Central   Science     52.00   \n",
      "4        5      M  85.80  Central  73.60  Central  Commerce     73.30   \n",
      "..     ...    ...    ...      ...    ...      ...       ...       ...   \n",
      "210    211      M  80.60   Others  82.00   Others  Commerce     77.60   \n",
      "211    212      M  58.00   Others  60.00   Others   Science     72.00   \n",
      "212    213      M  67.00   Others  67.00   Others  Commerce     73.00   \n",
      "213    214      F  74.00   Others  66.00   Others  Commerce     58.00   \n",
      "214    215      M  62.00  Central  58.00   Others   Science     53.00   \n",
      "\n",
      "      degree_t workex  etest_p specialisation  mba_p      status    salary  \n",
      "0     Sci&Tech     No     55.0         Mkt&HR  58.80      Placed  270000.0  \n",
      "1     Sci&Tech    Yes     86.5        Mkt&Fin  66.28      Placed  200000.0  \n",
      "2    Comm&Mgmt     No     75.0        Mkt&Fin  57.80      Placed  250000.0  \n",
      "3     Sci&Tech     No     66.0         Mkt&HR  59.43  Not Placed       NaN  \n",
      "4    Comm&Mgmt     No     96.8        Mkt&Fin  55.50      Placed  425000.0  \n",
      "..         ...    ...      ...            ...    ...         ...       ...  \n",
      "210  Comm&Mgmt     No     91.0        Mkt&Fin  74.49      Placed  400000.0  \n",
      "211   Sci&Tech     No     74.0        Mkt&Fin  53.62      Placed  275000.0  \n",
      "212  Comm&Mgmt    Yes     59.0        Mkt&Fin  69.72      Placed  295000.0  \n",
      "213  Comm&Mgmt     No     70.0         Mkt&HR  60.23      Placed  204000.0  \n",
      "214  Comm&Mgmt     No     89.0         Mkt&HR  60.22  Not Placed       NaN  \n",
      "\n",
      "[215 rows x 15 columns]\n"
     ]
    }
   ],
   "source": [
    "df = pd.read_csv(path + '/Placement_Data_Full_Class - Placement_Data_Full_Class.csv')\n",
    "print(df)"
   ]
  },
  {
   "cell_type": "code",
   "execution_count": 24,
   "id": "794534fb-bf4e-49fa-912a-cdb8fa6109e5",
   "metadata": {},
   "outputs": [
    {
     "name": "stdout",
     "output_type": "stream",
     "text": [
      "Index(['sl_no', 'gender', 'ssc_p', 'ssc_b', 'hsc_p', 'hsc_b', 'hsc_s',\n",
      "       'degree_p', 'degree_t', 'workex', 'etest_p', 'specialisation', 'mba_p',\n",
      "       'status', 'salary'],\n",
      "      dtype='object')\n"
     ]
    }
   ],
   "source": [
    "print(df.columns)"
   ]
  }
 ],
 "metadata": {
  "kernelspec": {
   "display_name": "Python [conda env:base] *",
   "language": "python",
   "name": "conda-base-py"
  },
  "language_info": {
   "codemirror_mode": {
    "name": "ipython",
    "version": 3
   },
   "file_extension": ".py",
   "mimetype": "text/x-python",
   "name": "python",
   "nbconvert_exporter": "python",
   "pygments_lexer": "ipython3",
   "version": "3.12.7"
  }
 },
 "nbformat": 4,
 "nbformat_minor": 5
}
