{
 "cells": [
  {
   "cell_type": "code",
   "execution_count": null,
   "id": "f442c277-2c8f-463f-a1bd-d91c083ac659",
   "metadata": {},
   "outputs": [],
   "source": [
    "#https://dataverse.harvard.edu/dataset.xhtml?persistentId=doi:10.7910/DVN/BFLEOK\n",
    "\n",
    "# First babies are natural-born leaders\n",
    "\n",
    "#ID – CEO identifier;\n",
    "#male – male indicator\n",
    "#current_age – current age of the CEO\n",
    "#college – college indicator\n",
    "#agebecameCEO – age at which the CEO first became CEO\n",
    "#NumSiblingsNum FB_all – Total number of siblings in the CEO family, including biological and non-biological ones\n",
    "#family_new – family firm indicator\n",
    "#Founder  - founder indicator\n",
    "#Revenue – total revenue of the firm in 2012\n",
    "#Employees – number of firm employees in 2012\n",
    "#ROA – return on assets\n",
    "#CAGR – growth rate of revenues in 2012\n",
    "#Ownership – percentage of the firm owned by the CEO\n",
    "#dum_older_brothers_all – existence of an older brother indicator, including biological and non-biological ones\n",
    "#dum_younger_brothers_all - existence of a younger brother indicator, including biological and non-biological ones\n",
    "#dum_older_sisters_all – existence of an older sister indicator, including biological and non-biological ones\n",
    "#dum_younger_sisters_all – existence of a younger sister indicator, including biological and non-biological ones\n",
    "#First_Male_all_exp – expected proportion of first-male born \n",
    "#First_Female_all_exp  - expected proportion of first-female born\n",
    "#BO_order_all_s – birth order or the CEO including biological and non-biological ones.\n"
   ]
  }
 ],
 "metadata": {
  "kernelspec": {
   "display_name": "Python 3 (ipykernel)",
   "language": "python",
   "name": "python3"
  },
  "language_info": {
   "codemirror_mode": {
    "name": "ipython",
    "version": 3
   },
   "file_extension": ".py",
   "mimetype": "text/x-python",
   "name": "python",
   "nbconvert_exporter": "python",
   "pygments_lexer": "ipython3",
   "version": "3.12.7"
  }
 },
 "nbformat": 4,
 "nbformat_minor": 5
}
