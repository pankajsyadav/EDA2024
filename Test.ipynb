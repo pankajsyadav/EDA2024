{
 "cells": [
  {
   "cell_type": "code",
   "execution_count": 2,
   "id": "f672b079-2864-4397-84dc-3fc4eefd2353",
   "metadata": {
    "ExecuteTime": {
     "end_time": "2024-11-29T22:43:03.497247Z",
     "start_time": "2024-11-29T22:43:03.495603Z"
    },
    "panel-layout": {
     "height": 0,
     "visible": true,
     "width": 100
    }
   },
   "outputs": [
    {
     "name": "stdout",
     "output_type": "stream",
     "text": [
      "Hello World! My name is Pankaj\n"
     ]
    }
   ],
   "source": [
    "# Display the text “Hello World! My name is ....\"\n",
    "\n",
    "print('Hello World! My name is Pankaj')\n"
   ]
  },
  {
   "cell_type": "code",
   "execution_count": 3,
   "id": "initial_id",
   "metadata": {
    "ExecuteTime": {
     "end_time": "2024-11-29T22:43:11.061887Z",
     "start_time": "2024-11-29T22:43:11.058882Z"
    },
    "panel-layout": {
     "height": 0,
     "visible": true,
     "width": 100
    }
   },
   "outputs": [
    {
     "name": "stdout",
     "output_type": "stream",
     "text": [
      "Adding 5 & 2 and answer is 7\n"
     ]
    }
   ],
   "source": [
    "# Add two numbers together\n",
    "\n",
    "print(f'Adding 5 & 2 and answer is',5 + 2)\n"
   ]
  },
  {
   "cell_type": "code",
   "execution_count": 4,
   "id": "d6441c04-87a7-4ebf-bc9d-a9493092a0b1",
   "metadata": {
    "panel-layout": {
     "height": 0,
     "visible": true,
     "width": 100
    }
   },
   "outputs": [
    {
     "name": "stdout",
     "output_type": "stream",
     "text": [
      "Substracting 5 from 10 and answer is 5\n"
     ]
    }
   ],
   "source": [
    "# Subtract two numbers\n",
    "\n",
    "print(f'Substracting 5 from 10 and answer is',10 - 5)"
   ]
  },
  {
   "cell_type": "code",
   "execution_count": 5,
   "id": "5557c415-c4b6-4f78-9c13-9af089a39f14",
   "metadata": {
    "panel-layout": {
     "height": 0,
     "visible": true,
     "width": 100
    }
   },
   "outputs": [
    {
     "name": "stdout",
     "output_type": "stream",
     "text": [
      "Multiplying 6 by 2 & answer is 12\n"
     ]
    }
   ],
   "source": [
    "# Multiply two numbers\n",
    "\n",
    "print(f'Multiplying 6 by 2 & answer is', 6 * 2)"
   ]
  },
  {
   "cell_type": "code",
   "execution_count": 6,
   "id": "0818adf3-492d-4b02-9359-b54eb8fa536e",
   "metadata": {
    "panel-layout": {
     "height": 0,
     "visible": true,
     "width": 100
    }
   },
   "outputs": [
    {
     "name": "stdout",
     "output_type": "stream",
     "text": [
      "Dividing 6 by 2 & answer is 3.0\n"
     ]
    }
   ],
   "source": [
    "# Divide between two numbers\n",
    "\n",
    "print(f'Dividing 6 by 2 & answer is', 6/2)\n"
   ]
  },
  {
   "cell_type": "code",
   "execution_count": 7,
   "id": "5b3e2d69-cb68-4295-be66-c81362f59075",
   "metadata": {
    "panel-layout": {
     "height": 0,
     "visible": true,
     "width": 100
    }
   },
   "outputs": [
    {
     "name": "stdout",
     "output_type": "stream",
     "text": [
      "Here  we  go!\n"
     ]
    }
   ],
   "source": [
    "# Concatenate two strings together (any words)\n",
    "\n",
    "z = \"Here \" + \" we \" + \" go!\"\n",
    "print(z)"
   ]
  },
  {
   "cell_type": "code",
   "execution_count": 8,
   "id": "25a0694c-321f-4f0b-b91a-149d498ccc85",
   "metadata": {
    "panel-layout": {
     "height": 0,
     "visible": true,
     "width": 100
    }
   },
   "outputs": [
    {
     "name": "stdout",
     "output_type": "stream",
     "text": [
      "[(1, 2, 3, 4, 5), ('Hello', 'List'), 'creating a list ', 'with so many string', 'and numbers', 1, 2, 3, 4, 5, 6]\n",
      "[[(1, 2, 3, 4, 5), ('Hello', 'List'), 'creating a list ', 'with so many string', 'and numbers', 1, 2, 3, 4, 5, 6], 'Appended item']\n"
     ]
    }
   ],
   "source": [
    "# Create a list of 4 items (can be strings, numbers, both)\n",
    "a = (1,2,3,4,5)\n",
    "b = (\"Hello\", \"List\")\n",
    "lst = list((a, b, \"creating a list \", \"with so many string\", \"and numbers\", 1 ,2, 3, 4, 5, 6))\n",
    "print(lst)\n",
    "\n",
    "# Append an item to your list (again, can be a string, number)\n",
    "\n",
    "c = (\"Appended item\")\n",
    "lst = [lst, c]\n",
    "print(lst)\n"
   ]
  },
  {
   "cell_type": "code",
   "execution_count": 2,
   "id": "3d582f04-1fb4-4e28-a287-343e98cf7052",
   "metadata": {
    "panel-layout": {
     "height": 0,
     "visible": true,
     "width": 100
    }
   },
   "outputs": [
    {
     "name": "stdout",
     "output_type": "stream",
     "text": [
      "(1, 2, 3, 4, 'Hello')\n"
     ]
    }
   ],
   "source": [
    "# Create a tuple with 4 items (can be strings, numbers, both)\n",
    "a = (1,2,3,4,\"Hello\")\n",
    "print(a)"
   ]
  },
  {
   "cell_type": "code",
   "execution_count": 3,
   "id": "0d475747-8ca3-4500-8726-3cf9328a77c7",
   "metadata": {},
   "outputs": [
    {
     "name": "stdout",
     "output_type": "stream",
     "text": [
      "Requirement already satisfied: nbmerge in /opt/anaconda3/lib/python3.12/site-packages (0.0.4)\n",
      "Note: you may need to restart the kernel to use updated packages.\n"
     ]
    }
   ],
   "source": [
    "pip install nbmerge"
   ]
  },
  {
   "cell_type": "code",
   "execution_count": 2,
   "id": "6d02da40-c141-4621-b320-d30dd579d223",
   "metadata": {},
   "outputs": [],
   "source": [
    "import scipy\n",
    "out = scipy.stats.norm(loc=178, scale=7.7)"
   ]
  },
  {
   "cell_type": "code",
   "execution_count": 3,
   "id": "1016ba9f-9ad7-4666-936d-70ef74f9350c",
   "metadata": {},
   "outputs": [
    {
     "data": {
      "text/plain": [
       "(0.48963902786483265, 0.8317337108107857, 0.3420946829459531)"
      ]
     },
     "execution_count": 3,
     "metadata": {},
     "output_type": "execute_result"
    }
   ],
   "source": [
    "low = out.cdf(177.8)  # 5'10\"\n",
    "high = out.cdf(185.4)  # 6'1\"\n",
    "low, high, high - low"
   ]
  },
  {
   "cell_type": "code",
   "execution_count": null,
   "id": "c25f3771-42f3-4da4-9003-5fcb11fb9bda",
   "metadata": {},
   "outputs": [],
   "source": []
  },
  {
   "cell_type": "code",
   "execution_count": 5,
   "id": "d4bda555-f966-4861-8b41-f6d6ea48da01",
   "metadata": {},
   "outputs": [
    {
     "name": "stdout",
     "output_type": "stream",
     "text": [
      "zsh:1: command not found: nbmerge\n"
     ]
    }
   ],
   "source": [
    "!nbmerge chap01ex.ipynb week3ex.ipnyb > PankajYadavDSC530Week3.ipynb"
   ]
  },
  {
   "cell_type": "code",
   "execution_count": 1,
   "id": "877aae08-c1e3-406a-9642-c18735f4d666",
   "metadata": {},
   "outputs": [
    {
     "ename": "NameError",
     "evalue": "name 'readbabyboom' is not defined",
     "output_type": "error",
     "traceback": [
      "\u001b[0;31m---------------------------------------------------------------------------\u001b[0m",
      "\u001b[0;31mNameError\u001b[0m                                 Traceback (most recent call last)",
      "Cell \u001b[0;32mIn[1], line 1\u001b[0m\n\u001b[0;32m----> 1\u001b[0m df \u001b[38;5;241m=\u001b[39m readbabyboom()\n",
      "\u001b[0;31mNameError\u001b[0m: name 'readbabyboom' is not defined"
     ]
    }
   ],
   "source": [
    "df = readbabyboom()"
   ]
  }
 ],
 "metadata": {
  "kernelspec": {
   "display_name": "Python 3 (ipykernel)",
   "language": "python",
   "name": "python3"
  },
  "language_info": {
   "codemirror_mode": {
    "name": "ipython",
    "version": 3
   },
   "file_extension": ".py",
   "mimetype": "text/x-python",
   "name": "python",
   "nbconvert_exporter": "python",
   "pygments_lexer": "ipython3",
   "version": "3.12.7"
  },
  "panel-cell-order": [
   "f672b079-2864-4397-84dc-3fc4eefd2353",
   "initial_id",
   "d6441c04-87a7-4ebf-bc9d-a9493092a0b1",
   "5557c415-c4b6-4f78-9c13-9af089a39f14",
   "0818adf3-492d-4b02-9359-b54eb8fa536e",
   "5b3e2d69-cb68-4295-be66-c81362f59075",
   "25a0694c-321f-4f0b-b91a-149d498ccc85",
   "3d582f04-1fb4-4e28-a287-343e98cf7052"
  ]
 },
 "nbformat": 4,
 "nbformat_minor": 5
}
