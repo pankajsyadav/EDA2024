{
 "cells": [
  {
   "cell_type": "markdown",
   "id": "b29b8bad-bedc-4966-b257-260ec4aaa219",
   "metadata": {},
   "source": [
    "__Assignment Week 5__    \n",
    "__Question 5.1__ : In the BRFSS (see Section 5.4), the distribution of heights is roughly normal with parameters µ = 178 cm and σ = 7.7 cm for men, and µ = 163 cm and σ = 7.3 cm for women.\n",
    "\n",
    "In order to join Blue Man Group, you have to be male between 5’10” (177.8cm) and 6’1” (185.42cm) (see http://bluemancasting.com). What percentage of the U.S. male population is in this range? Hint: use `scipy.stats.norm.cdf`.\n",
    "\n",
    "\n",
    "Import basic required packages"
   ]
  },
  {
   "cell_type": "code",
   "execution_count": 53,
   "id": "5009f6a0-9452-46cd-a9e0-c65a12dd23a5",
   "metadata": {},
   "outputs": [],
   "source": [
    "import numpy as np\n",
    "import pandas\n",
    "import thinkstats2\n",
    "import thinkplot\n",
    "import scipy\n",
    "import math"
   ]
  },
  {
   "cell_type": "markdown",
   "id": "83a7b48c-c6b4-4789-a76a-a4158e21bc7f",
   "metadata": {},
   "source": [
    "\n",
    "\n",
    "Read in BRFSS dataset and create a dataframe"
   ]
  },
  {
   "cell_type": "code",
   "execution_count": 2,
   "id": "f64b87f9-5b6c-42a0-b73b-15927edce000",
   "metadata": {},
   "outputs": [],
   "source": [
    "from os.path import basename, exists\n",
    "\n",
    "import warnings\n",
    "warnings.filterwarnings('ignore')\n",
    "from os.path import basename, exists\n",
    "\n",
    "def download(url):\n",
    "    filename = basename(url)\n",
    "    if not exists(filename):\n",
    "        from urllib.request import urlretrieve\n",
    "\n",
    "        local, _ = urlretrieve(url, filename)\n",
    "        print(\"Downloaded \" + local)\n",
    "\n",
    "\n",
    "download(\"https://github.com/AllenDowney/ThinkStats2/raw/master/code/CDBRFS08.ASC.gz\")\n"
   ]
  },
  {
   "cell_type": "markdown",
   "id": "af22f019-7004-4c95-a92f-d5c599c1abda",
   "metadata": {},
   "source": [
    "Copy function definitions from brfdd.py code to load dataset in dataframe and data cleanup"
   ]
  },
  {
   "cell_type": "code",
   "execution_count": 3,
   "id": "317a6ccd-cd74-4c5d-802d-45c4588e850a",
   "metadata": {},
   "outputs": [],
   "source": [
    "def CleanBrfssFrame(df):\n",
    "    \"\"\"Recodes BRFSS variables.\n",
    "\n",
    "    df: DataFrame\n",
    "    \"\"\"\n",
    "    # clean age\n",
    "    df.age.replace([7, 9], float('NaN'), inplace=True)\n",
    "\n",
    "    # clean height\n",
    "    df.htm3.replace([999], float('NaN'), inplace=True)\n",
    "\n",
    "    # clean weight\n",
    "    df.wtkg2.replace([99999], float('NaN'), inplace=True)\n",
    "    df.wtkg2 /= 100.0\n",
    "\n",
    "    # clean weight a year ago\n",
    "    df.wtyrago.replace([7777, 9999], float('NaN'), inplace=True)\n",
    "    df['wtyrago'] = df.wtyrago.apply(lambda x: x/2.2 if x < 9000 else x-9000)"
   ]
  },
  {
   "cell_type": "code",
   "execution_count": 4,
   "id": "8ab6a9a1-4bf8-4413-9cdd-cae9e90cc22a",
   "metadata": {},
   "outputs": [],
   "source": [
    "def ReadBrfss(filename='CDBRFS08.ASC.gz', compression='gzip', nrows=None):\n",
    "    \"\"\"Reads the BRFSS data.\n",
    "\n",
    "    filename: string\n",
    "    compression: string\n",
    "    nrows: int number of rows to read, or None for all\n",
    "\n",
    "    returns: DataFrame\n",
    "    \"\"\"\n",
    "    var_info = [\n",
    "        ('age', 101, 102, int),\n",
    "        ('sex', 143, 143, int),\n",
    "        ('wtyrago', 127, 130, int),\n",
    "        ('finalwt', 799, 808, int),\n",
    "        ('wtkg2', 1254, 1258, int),\n",
    "        ('htm3', 1251, 1253, int),\n",
    "        ]\n",
    "    columns = ['name', 'start', 'end', 'type']\n",
    "    variables = pandas.DataFrame(var_info, columns=columns)\n",
    "    variables.end += 1\n",
    "    dct = thinkstats2.FixedWidthVariables(variables, index_base=1)\n",
    "\n",
    "    df = dct.ReadFixedWidth(filename, compression=compression, nrows=nrows)\n",
    "    CleanBrfssFrame(df)\n",
    "    return df\n"
   ]
  },
  {
   "cell_type": "markdown",
   "id": "1ef1e802-300b-49d5-b68d-0809cd920501",
   "metadata": {},
   "source": [
    "Reading dataset to a dataframe and applying cleanup"
   ]
  },
  {
   "cell_type": "code",
   "execution_count": 5,
   "id": "8ef2947d-fd83-441e-bdb3-f947b2eb4267",
   "metadata": {},
   "outputs": [],
   "source": [
    "df = ReadBrfss()"
   ]
  },
  {
   "cell_type": "markdown",
   "id": "35939d05-8866-49e3-8391-bac36a9424ca",
   "metadata": {},
   "source": [
    "Filtering out males only candidates and calculating the mean and std deviation"
   ]
  },
  {
   "cell_type": "code",
   "execution_count": 6,
   "id": "a1228ec4-1602-4df4-9299-3cab4caf93e7",
   "metadata": {},
   "outputs": [],
   "source": [
    "males = df[df.sex==1]\n",
    "males.head()\n",
    "meanval = males.htm3.mean() \n",
    "stddev = males.htm3.std()"
   ]
  },
  {
   "cell_type": "markdown",
   "id": "854afcb4-f863-4235-8d35-0fbe9e1d0d36",
   "metadata": {},
   "source": [
    "Plot the height to check if the distribution is normal"
   ]
  },
  {
   "cell_type": "code",
   "execution_count": 7,
   "id": "4f9368ec-f430-407f-ada7-e4e044fa207e",
   "metadata": {},
   "outputs": [
    {
     "data": {
      "image/png": "[encoded data removed]",
      "text/plain": [
       "<Figure size 640x480 with 1 Axes>"
      ]
     },
     "metadata": {},
     "output_type": "display_data"
    },
    {
     "data": {
      "text/plain": [
       "<Figure size 800x600 with 0 Axes>"
      ]
     },
     "metadata": {},
     "output_type": "display_data"
    }
   ],
   "source": [
    "males_hist = thinkstats2.Hist(males.htm3, label='height in cm')\n",
    "thinkplot.Hist(males_hist)\n",
    "thinkplot.Show(xlabel='cm', ylabel='Frequency')"
   ]
  },
  {
   "cell_type": "markdown",
   "id": "877a9db8-7961-4d03-a50e-b397b1d7dd49",
   "metadata": {},
   "source": [
    "Generate randon normal contineous variables for specified mean and std dev."
   ]
  },
  {
   "cell_type": "code",
   "execution_count": 8,
   "id": "73889c42-faab-40e3-88d0-4f6e6fa69348",
   "metadata": {},
   "outputs": [
    {
     "data": {
      "text/plain": [
       "(178.06622109101272, 7.723563454782443)"
      ]
     },
     "execution_count": 8,
     "metadata": {},
     "output_type": "execute_result"
    }
   ],
   "source": [
    "out = scipy.stats.norm(loc=meanval, scale=stddev)\n",
    "out.mean(), out.std()"
   ]
  },
  {
   "cell_type": "markdown",
   "id": "a2040c4b-49af-487a-abf4-fee9f0e82c36",
   "metadata": {},
   "source": [
    "Fitting our min and max height aginst the model to check where it falls on the curve. \n",
    "The CDF will provide th left of min height and left of max height probability. \n",
    "So the actual eligible population will lie in between the min & max."
   ]
  },
  {
   "cell_type": "code",
   "execution_count": 9,
   "id": "80567790-1a09-4ab2-9f5c-7f90ff2ba44a",
   "metadata": {},
   "outputs": [
    {
     "data": {
      "text/plain": [
       "(48.62517058411381, 82.88252192710317)"
      ]
     },
     "execution_count": 9,
     "metadata": {},
     "output_type": "execute_result"
    }
   ],
   "source": [
    "low = out.cdf(177.8)  # 5'10\"\n",
    "high = out.cdf(185.4)  # 6'1\"\n",
    "low*100, high*100, "
   ]
  },
  {
   "cell_type": "markdown",
   "id": "434393ba-cdc4-4950-9581-b86b01ac276c",
   "metadata": {},
   "source": [
    "Eligible population"
   ]
  },
  {
   "cell_type": "code",
   "execution_count": 10,
   "id": "eef49b35-c5a7-412f-9a71-0365cbbf5b56",
   "metadata": {},
   "outputs": [
    {
     "data": {
      "text/plain": [
       "34.25735134298936"
      ]
     },
     "execution_count": 10,
     "metadata": {},
     "output_type": "execute_result"
    }
   ],
   "source": [
    "(high - low)*100"
   ]
  },
  {
   "cell_type": "markdown",
   "id": "e8b3f4f7-0158-4300-9d23-625b8092c96e",
   "metadata": {},
   "source": [
    "__Question 5.2__: To get a feel for the Pareto distribution, let’s see how different the world would be if the distribution of human height were Pareto. With the parameters xm = 1 m and α = 1.7, we get a distribution with a reasonable minimum, 1 m, and median, 1.5 m.\n",
    "\n",
    "Plot this distribution. What is the mean human height in Pareto world? What fraction of the population is shorter than the mean? If there are 7 billion people in Pareto world, how many do we expect to be taller than 1 km? How tall do we expect the tallest person to be?\n",
    "\n",
    "`scipy.stats.pareto` represents a pareto distribution.  In Pareto world, the distribution of human heights has parameters alpha=1.7 and xmin=1 meter.  So the shortest person is 100 cm and the median is 150."
   ]
  },
  {
   "cell_type": "code",
   "execution_count": 11,
   "id": "1cf1d445-6c2d-47ee-b5be-dd00ffeb5603",
   "metadata": {},
   "outputs": [
    {
     "data": {
      "text/plain": [
       "1.5034066538560549"
      ]
     },
     "execution_count": 11,
     "metadata": {},
     "output_type": "execute_result"
    }
   ],
   "source": [
    "alpha = 1.7\n",
    "xmin = 1  # meter\n",
    "dist = scipy.stats.pareto(b=alpha, scale=xmin)\n",
    "dist.median()"
   ]
  },
  {
   "cell_type": "markdown",
   "id": "3b0c7c34-101f-48eb-b14f-01ea6e6bc7b3",
   "metadata": {},
   "source": [
    "Plot this distribution. "
   ]
  },
  {
   "cell_type": "code",
   "execution_count": 12,
   "id": "a6d03d53-7d70-4781-ad4b-f9f900bf90c5",
   "metadata": {},
   "outputs": [
    {
     "data": {
      "image/png": "[encoded data removed]",
      "text/plain": [
       "<Figure size 640x480 with 1 Axes>"
      ]
     },
     "metadata": {},
     "output_type": "display_data"
    }
   ],
   "source": [
    "xs, ys = thinkstats2.RenderParetoCdf(xmin, alpha, 0, 10.0, n=(10**4)*7)\n",
    "thinkplot.Plot(xs, 1 - ys)"
   ]
  },
  {
   "cell_type": "markdown",
   "id": "5888aa72-5950-41c0-bc4d-d96f355ab77f",
   "metadata": {},
   "source": [
    "What is the mean human height in Pareto world? "
   ]
  },
  {
   "cell_type": "code",
   "execution_count": 13,
   "id": "25684edc-557e-4bdf-b67d-16fa748cfd3b",
   "metadata": {},
   "outputs": [
    {
     "data": {
      "text/plain": [
       "2.428571428571429"
      ]
     },
     "execution_count": 13,
     "metadata": {},
     "output_type": "execute_result"
    }
   ],
   "source": [
    "dist.mean()"
   ]
  },
  {
   "cell_type": "markdown",
   "id": "c6639765-9f11-475e-bad6-9991f07373ec",
   "metadata": {},
   "source": [
    "What fraction of the population is shorter than the mean?"
   ]
  },
  {
   "cell_type": "code",
   "execution_count": 14,
   "id": "50b80566-6a0e-4c82-b35f-d904c4cf62f0",
   "metadata": {},
   "outputs": [
    {
     "data": {
      "text/plain": [
       "0.778739697565288"
      ]
     },
     "execution_count": 14,
     "metadata": {},
     "output_type": "execute_result"
    }
   ],
   "source": [
    "dist.cdf(dist.mean())"
   ]
  },
  {
   "cell_type": "markdown",
   "id": "3772f3d4-6ab1-4173-94e1-2678017ec154",
   "metadata": {},
   "source": [
    "If there are 7 billion people in Pareto world, how many do we expect to be taller than 1 km? How tall do we expect the tallest person to be?"
   ]
  },
  {
   "cell_type": "code",
   "execution_count": 15,
   "id": "3c7ffb0a-84b2-46ab-9bc7-e1e41589183a",
   "metadata": {},
   "outputs": [
    {
     "data": {
      "text/plain": [
       "55602.976430479954"
      ]
     },
     "execution_count": 15,
     "metadata": {},
     "output_type": "execute_result"
    }
   ],
   "source": [
    "(1-dist.cdf(1000))*7e9"
   ]
  },
  {
   "cell_type": "markdown",
   "id": "d1226720-f2a7-4003-b884-b48d26da74a2",
   "metadata": {},
   "source": [
    "How tall do we expect the tallest person to be?"
   ]
  },
  {
   "cell_type": "code",
   "execution_count": 16,
   "id": "3bbd2f25-1252-4bf1-8be1-765932570e9b",
   "metadata": {},
   "outputs": [
    {
     "data": {
      "text/plain": [
       "1.0001369732393073"
      ]
     },
     "execution_count": 16,
     "metadata": {},
     "output_type": "execute_result"
    }
   ],
   "source": [
    "#After changing the values to get the one, the final value that worked is 618.300 km.\n",
    "(1-dist.cdf(618300))*7e9"
   ]
  },
  {
   "cell_type": "markdown",
   "id": "2e10afdd-cd87-4df4-bb81-46423e26270c",
   "metadata": {},
   "source": [
    "__Question 6.1__ : The distribution of income is famously skewed to the right. In this exercise, we’ll measure how strong that skew is. The Current Population Survey (CPS) is a joint effort of the Bureau of Labor Statistics and the Census Bureau to study income and related variables. Data collected in 2013 is available from http://www.census.gov/hhes/www/cpstables/032013/hhinc/toc.htm. I downloaded hinc06.xls, which is an Excel spreadsheet with information about household income, and converted it to hinc06.csv, a CSV file you will find in the repository for this book. You will also find hinc2.py, which reads this file and transforms the data.\n",
    "\n",
    "The dataset is in the form of a series of income ranges and the number of respondents who fell in each range. The lowest range includes respondents who reported annual household income “Under 250,000 or more.”\n",
    "\n",
    "To estimate mean and other statistics from these data, we have to make some assumptions about the lower and upper bounds, and how the values are distributed in each range. hinc2.py provides InterpolateSample, which shows one way to model this data. It takes a DataFrame with a column, income, that contains the upper bound of each range, and freq, which contains the number of respondents in each frame.\n",
    "\n",
    "It also takes log_upper, which is an assumed upper bound on the highest range, expressed in log10 dollars. The default value, log_upper=6.0 represents the assumption that the largest income among the respondents is , or one million dollars.\n",
    "\n",
    "InterpolateSample generates a pseudo-sample; that is, a sample of household incomes that yields the same number of respondents in each range as the actual data. It assumes that incomes in each range are equally spaced on a log10 scale.\n",
    "\n",
    "Compute the median, mean, skewness, Pearsons skewness of the resulting sample. What fraction of households reports a taxable income below the mean? How do the results depend on the assumed upper bound?"
   ]
  },
  {
   "cell_type": "code",
   "execution_count": 17,
   "id": "8357c760-aec9-41e9-93eb-b45cb59b55d5",
   "metadata": {},
   "outputs": [],
   "source": [
    "#Download file\n",
    "download(\"https://github.com/AllenDowney/ThinkStats2/raw/master/code/hinc06.csv\")"
   ]
  },
  {
   "cell_type": "code",
   "execution_count": 19,
   "id": "a8dd415e-15c6-4041-81e9-a12a9befd7dd",
   "metadata": {},
   "outputs": [],
   "source": [
    "def Clean(s):\n",
    "    \"\"\"Converts dollar amounts to integers.\"\"\"\n",
    "    try:\n",
    "        return int(s.lstrip('$').replace(',', ''))\n",
    "    except ValueError:\n",
    "        if s == 'Under':\n",
    "            return 0\n",
    "        elif s == 'over':\n",
    "            return np.inf\n",
    "        return None\n",
    "\n",
    "def ReadData(filename='hinc06.csv'):\n",
    "    \"\"\"Reads filename and returns populations in thousands\n",
    "\n",
    "    filename: string\n",
    "\n",
    "    returns: pandas Series of populations in thousands\n",
    "    \"\"\"\n",
    "    data = pandas.read_csv(filename, header=None, skiprows=9)\n",
    "    cols = data[[0, 1]]\n",
    "        \n",
    "    res = []\n",
    "    for _, row in cols.iterrows():\n",
    "        label, freq = row.values\n",
    "        freq = int(freq.replace(',', ''))\n",
    "\n",
    "        t = label.split()\n",
    "        low, high = Clean(t[0]), Clean(t[-1])\n",
    "\n",
    "        res.append((high, freq))\n",
    "\n",
    "    df = pandas.DataFrame(res)\n",
    "    # correct the first range\n",
    "    df.loc[0, 0] -= 1\n",
    "    # compute the cumulative sum of the freqs\n",
    "    df[2] = df[1].cumsum()\n",
    "    # normalize the cumulative freqs\n",
    "    total = df[2][41]\n",
    "    df[3] = df[2] / total\n",
    "    # add column names\n",
    "    df.columns = ['income',  'freq', 'cumsum', 'ps']\n",
    "    return df"
   ]
  },
  {
   "cell_type": "markdown",
   "id": "ae4ed940-7c45-4dc0-b754-c2c9c95ada41",
   "metadata": {},
   "source": [
    "Read file"
   ]
  },
  {
   "cell_type": "code",
   "execution_count": 21,
   "id": "0a345d1d-21e3-472d-8871-a148fb810fcb",
   "metadata": {},
   "outputs": [],
   "source": [
    "dfi = ReadData()"
   ]
  },
  {
   "cell_type": "code",
   "execution_count": 22,
   "id": "3f9b8d7f-1099-4213-a3d5-5072a766913d",
   "metadata": {},
   "outputs": [],
   "source": [
    "def InterpolateSample(df, log_upper=6.0):\n",
    "    \"\"\"Makes a sample of log10 household income.\n",
    "\n",
    "    Assumes that log10 income is uniform in each range.\n",
    "\n",
    "    df: DataFrame with columns income and freq\n",
    "    log_upper: log10 of the assumed upper bound for the highest range\n",
    "\n",
    "    returns: NumPy array of log10 household income\n",
    "    \"\"\"\n",
    "    # compute the log10 of the upper bound for each range\n",
    "    df['log_upper'] = np.log10(df.income)\n",
    "\n",
    "    # get the lower bounds by shifting the upper bound and filling in\n",
    "    # the first element\n",
    "    df['log_lower'] = df.log_upper.shift(1)\n",
    "    df.loc[0, 'log_lower'] = 3.0\n",
    "\n",
    "    # plug in a value for the unknown upper bound of the highest range\n",
    "    df.loc[41, 'log_upper'] = log_upper\n",
    "    \n",
    "    # use the freq column to generate the right number of values in\n",
    "    # each range\n",
    "    arrays = []\n",
    "    for _, row in df.iterrows():\n",
    "        vals = np.linspace(row.log_lower, row.log_upper, int(row.freq))\n",
    "        arrays.append(vals)\n",
    "\n",
    "    # collect the arrays into a single sample\n",
    "    log_sample = np.concatenate(arrays)\n",
    "    return log_sample"
   ]
  },
  {
   "cell_type": "code",
   "execution_count": 78,
   "id": "a217721a-cc82-4e97-974d-4b763b63ac75",
   "metadata": {},
   "outputs": [],
   "source": [
    "# Create interpolated log sample assuming upper boundry of 1 million\n",
    "log_sample = InterpolateSample(dfi, log_upper=6.0)"
   ]
  },
  {
   "cell_type": "code",
   "execution_count": 77,
   "id": "ec5f543d-a917-4724-8020-82350ba05d95",
   "metadata": {},
   "outputs": [
    {
     "data": {
      "image/png": "[encoded data removed]",
      "text/plain": [
       "<Figure size 640x480 with 1 Axes>"
      ]
     },
     "metadata": {},
     "output_type": "display_data"
    }
   ],
   "source": [
    "#Create plot\n",
    "sample_cdf = thinkstats2.Cdf(log_sample)\n",
    "thinkplot.Cdf(sample_cdf)\n",
    "thinkplot.Config(xlabel='Household income (log $)',\n",
    "               ylabel='CDF')"
   ]
  },
  {
   "cell_type": "code",
   "execution_count": 28,
   "id": "6b42d2c0-1116-4b28-9c61-fc1ce729d244",
   "metadata": {},
   "outputs": [],
   "source": [
    "# From log to normal\n",
    "normal_sample = np.power(10, log_sample)"
   ]
  },
  {
   "cell_type": "code",
   "execution_count": 40,
   "id": "940552eb-45ba-463c-9c3a-12da2a5e4880",
   "metadata": {},
   "outputs": [],
   "source": [
    "#create raw moment function to calculate mean\n",
    "def RawMoment(xs, k):\n",
    "    return sum(x**k for x in xs) / len(xs)"
   ]
  },
  {
   "cell_type": "code",
   "execution_count": 70,
   "id": "f3557136-f9d5-4a66-9132-543bb8df10c9",
   "metadata": {},
   "outputs": [
    {
     "data": {
      "text/plain": [
       "74278.70753118733"
      ]
     },
     "execution_count": 70,
     "metadata": {},
     "output_type": "execute_result"
    }
   ],
   "source": [
    "#mean\n",
    "mean_val = RawMoment(normal_sample,1)\n",
    "mean_val"
   ]
  },
  {
   "cell_type": "code",
   "execution_count": 48,
   "id": "f43b3411-4711-4cb5-8a09-77a0a9b314e7",
   "metadata": {},
   "outputs": [],
   "source": [
    "#Define median function\n",
    "def Median(xs):\n",
    "    cdf =thinkstats2.MakeCdfFromList(xs)\n",
    "    return cdf.Value(0.5)"
   ]
  },
  {
   "cell_type": "code",
   "execution_count": 49,
   "id": "c8492b18-2baa-49f6-983e-1f3fab664f16",
   "metadata": {},
   "outputs": [
    {
     "data": {
      "text/plain": [
       "51226.45447894046"
      ]
     },
     "execution_count": 49,
     "metadata": {},
     "output_type": "execute_result"
    }
   ],
   "source": [
    "#Calculate Mean\n",
    "Median(normal_sample)"
   ]
  },
  {
   "cell_type": "code",
   "execution_count": 50,
   "id": "022c3801-63e1-465e-b2d4-a8280afbadf2",
   "metadata": {},
   "outputs": [],
   "source": [
    "# Create function to calculate Variance\n",
    "def CentralMoment(xs,k):\n",
    "    mean = RawMoment(xs,1)\n",
    "    return sum((x-mean)**k for x in xs) / len(xs)"
   ]
  },
  {
   "cell_type": "code",
   "execution_count": 54,
   "id": "4de6eae8-64d7-44d3-a857-b2911e6fd74c",
   "metadata": {},
   "outputs": [],
   "source": [
    "#Create function to calculate standardized moment to calculate snkewness\n",
    "def StdMoment(xs, k):\n",
    "    var = CentralMoment(xs,2)\n",
    "    std = math.sqrt(var)\n",
    "    return CentralMoment(xs,k) / std**k"
   ]
  },
  {
   "cell_type": "code",
   "execution_count": 55,
   "id": "9e332da6-1819-4141-a623-4f509fd96653",
   "metadata": {},
   "outputs": [
    {
     "data": {
      "text/plain": [
       "4.949920244429583"
      ]
     },
     "execution_count": 55,
     "metadata": {},
     "output_type": "execute_result"
    }
   ],
   "source": [
    "#Skewness\n",
    "StdMoment(normal_sample,3)"
   ]
  },
  {
   "cell_type": "code",
   "execution_count": 61,
   "id": "e1b55ed9-162e-424c-a534-8a9ef113f4b9",
   "metadata": {},
   "outputs": [],
   "source": [
    "def PearsonMedianSkewness(xs):\n",
    "    median = Median(xs)\n",
    "    mean = RawMoment(xs, 1)\n",
    "    var =  CentralMoment(xs,2)\n",
    "    std = math.sqrt(var)\n",
    "    gp = 3 * (mean-median) / std\n",
    "    return gp"
   ]
  },
  {
   "cell_type": "code",
   "execution_count": 62,
   "id": "35a961c2-4a43-4a50-9eec-7af1705727e8",
   "metadata": {},
   "outputs": [
    {
     "data": {
      "text/plain": [
       "0.7361258019141782"
      ]
     },
     "execution_count": 62,
     "metadata": {},
     "output_type": "execute_result"
    }
   ],
   "source": [
    "PearsonMedianSkewness(normal_sample)"
   ]
  },
  {
   "cell_type": "code",
   "execution_count": 72,
   "id": "6581d3a4-2145-49ca-affb-db4c1d7f8f57",
   "metadata": {},
   "outputs": [],
   "source": [
    "#Create CDF based on sample data\n",
    "cdfval = thinkstats2.Cdf(normal_sample)"
   ]
  },
  {
   "cell_type": "code",
   "execution_count": 75,
   "id": "e1dea7de-467d-412b-907a-5854dd325367",
   "metadata": {},
   "outputs": [
    {
     "data": {
      "text/plain": [
       "0.660005879566872"
      ]
     },
     "execution_count": 75,
     "metadata": {},
     "output_type": "execute_result"
    }
   ],
   "source": [
    "#Prob of left of mean value in a CDF defines the population below mean.\n",
    "cdfval.Prob(mean_val)"
   ]
  },
  {
   "cell_type": "markdown",
   "id": "c9ecd44b-a6da-44db-9f19-a24c1c9e82f8",
   "metadata": {},
   "source": [
    "Assuming the lower and upper ends could affect the skewness of distribution."
   ]
  }
 ],
 "metadata": {
  "kernelspec": {
   "display_name": "Python 3 (ipykernel)",
   "language": "python",
   "name": "python3"
  },
  "language_info": {
   "codemirror_mode": {
    "name": "ipython",
    "version": 3
   },
   "file_extension": ".py",
   "mimetype": "text/x-python",
   "name": "python",
   "nbconvert_exporter": "python",
   "pygments_lexer": "ipython3",
   "version": "3.12.7"
  }
 },
 "nbformat": 4,
 "nbformat_minor": 5
}
