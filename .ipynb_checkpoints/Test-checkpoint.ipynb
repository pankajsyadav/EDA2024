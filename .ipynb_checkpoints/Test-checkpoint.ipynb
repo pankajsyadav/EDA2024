{
 "cells": [
  {
   "cell_type": "code",
   "execution_count": 2,
   "id": "f672b079-2864-4397-84dc-3fc4eefd2353",
   "metadata": {
    "ExecuteTime": {
     "end_time": "2024-11-29T22:43:03.497247Z",
     "start_time": "2024-11-29T22:43:03.495603Z"
    },
    "panel-layout": {
     "height": 0,
     "visible": true,
     "width": 100
    }
   },
   "outputs": [
    {
     "name": "stdout",
     "output_type": "stream",
     "text": [
      "Hello World! My name is Pankaj\n"
     ]
    }
   ],
   "source": [
    "# Display the text “Hello World! My name is ....\"\n",
    "\n",
    "print('Hello World! My name is Pankaj')\n"
   ]
  },
  {
   "cell_type": "code",
   "execution_count": 3,
   "id": "initial_id",
   "metadata": {
    "ExecuteTime": {
     "end_time": "2024-11-29T22:43:11.061887Z",
     "start_time": "2024-11-29T22:43:11.058882Z"
    },
    "panel-layout": {
     "height": 0,
     "visible": true,
     "width": 100
    }
   },
   "outputs": [
    {
     "name": "stdout",
     "output_type": "stream",
     "text": [
      "Adding 5 & 2 and answer is 7\n"
     ]
    }
   ],
   "source": [
    "# Add two numbers together\n",
    "\n",
    "print(f'Adding 5 & 2 and answer is',5 + 2)\n"
   ]
  },
  {
   "cell_type": "code",
   "execution_count": 4,
   "id": "d6441c04-87a7-4ebf-bc9d-a9493092a0b1",
   "metadata": {
    "panel-layout": {
     "height": 0,
     "visible": true,
     "width": 100
    }
   },
   "outputs": [
    {
     "name": "stdout",
     "output_type": "stream",
     "text": [
      "Substracting 5 from 10 and answer is 5\n"
     ]
    }
   ],
   "source": [
    "# Subtract two numbers\n",
    "\n",
    "print(f'Substracting 5 from 10 and answer is',10 - 5)"
   ]
  },
  {
   "cell_type": "code",
   "execution_count": 5,
   "id": "5557c415-c4b6-4f78-9c13-9af089a39f14",
   "metadata": {
    "panel-layout": {
     "height": 0,
     "visible": true,
     "width": 100
    }
   },
   "outputs": [
    {
     "name": "stdout",
     "output_type": "stream",
     "text": [
      "Multiplying 6 by 2 & answer is 12\n"
     ]
    }
   ],
   "source": [
    "# Multiply two numbers\n",
    "\n",
    "print(f'Multiplying 6 by 2 & answer is', 6 * 2)"
   ]
  },
  {
   "cell_type": "code",
   "execution_count": 6,
   "id": "0818adf3-492d-4b02-9359-b54eb8fa536e",
   "metadata": {
    "panel-layout": {
     "height": 0,
     "visible": true,
     "width": 100
    }
   },
   "outputs": [
    {
     "name": "stdout",
     "output_type": "stream",
     "text": [
      "Dividing 6 by 2 & answer is 3.0\n"
     ]
    }
   ],
   "source": [
    "# Divide between two numbers\n",
    "\n",
    "print(f'Dividing 6 by 2 & answer is', 6/2)\n"
   ]
  },
  {
   "cell_type": "code",
   "execution_count": 7,
   "id": "5b3e2d69-cb68-4295-be66-c81362f59075",
   "metadata": {
    "panel-layout": {
     "height": 0,
     "visible": true,
     "width": 100
    }
   },
   "outputs": [
    {
     "name": "stdout",
     "output_type": "stream",
     "text": [
      "Here  we  go!\n"
     ]
    }
   ],
   "source": [
    "# Concatenate two strings together (any words)\n",
    "\n",
    "z = \"Here \" + \" we \" + \" go!\"\n",
    "print(z)"
   ]
  },
  {
   "cell_type": "code",
   "execution_count": 8,
   "id": "25a0694c-321f-4f0b-b91a-149d498ccc85",
   "metadata": {
    "panel-layout": {
     "height": 0,
     "visible": true,
     "width": 100
    }
   },
   "outputs": [
    {
     "name": "stdout",
     "output_type": "stream",
     "text": [
      "[(1, 2, 3, 4, 5), ('Hello', 'List'), 'creating a list ', 'with so many string', 'and numbers', 1, 2, 3, 4, 5, 6]\n",
      "[[(1, 2, 3, 4, 5), ('Hello', 'List'), 'creating a list ', 'with so many string', 'and numbers', 1, 2, 3, 4, 5, 6], 'Appended item']\n"
     ]
    }
   ],
   "source": [
    "# Create a list of 4 items (can be strings, numbers, both)\n",
    "a = (1,2,3,4,5)\n",
    "b = (\"Hello\", \"List\")\n",
    "lst = list((a, b, \"creating a list \", \"with so many string\", \"and numbers\", 1 ,2, 3, 4, 5, 6))\n",
    "print(lst)\n",
    "\n",
    "# Append an item to your list (again, can be a string, number)\n",
    "\n",
    "c = (\"Appended item\")\n",
    "lst = [lst, c]\n",
    "print(lst)\n"
   ]
  },
  {
   "cell_type": "code",
   "execution_count": 9,
   "id": "3d582f04-1fb4-4e28-a287-343e98cf7052",
   "metadata": {
    "panel-layout": {
     "height": 0,
     "visible": true,
     "width": 100
    }
   },
   "outputs": [
    {
     "name": "stdout",
     "output_type": "stream",
     "text": [
      "(1, 2, 3, 4, 'Hello')\n"
     ]
    }
   ],
   "source": [
    "# Create a tuple with 4 items (can be strings, numbers, both)\n",
    "a = (1,2,3,4,\"Hello\")\n",
    "print(a)"
   ]
  }
 ],
 "metadata": {
  "kernelspec": {
   "display_name": "Python 3 (ipykernel)",
   "language": "python",
   "name": "python3"
  },
  "language_info": {
   "codemirror_mode": {
    "name": "ipython",
    "version": 3
   },
   "file_extension": ".py",
   "mimetype": "text/x-python",
   "name": "python",
   "nbconvert_exporter": "python",
   "pygments_lexer": "ipython3",
   "version": "3.12.7"
  },
  "panel-cell-order": [
   "f672b079-2864-4397-84dc-3fc4eefd2353",
   "initial_id",
   "d6441c04-87a7-4ebf-bc9d-a9493092a0b1",
   "5557c415-c4b6-4f78-9c13-9af089a39f14",
   "0818adf3-492d-4b02-9359-b54eb8fa536e",
   "5b3e2d69-cb68-4295-be66-c81362f59075",
   "25a0694c-321f-4f0b-b91a-149d498ccc85",
   "3d582f04-1fb4-4e28-a287-343e98cf7052"
  ]
 },
 "nbformat": 4,
 "nbformat_minor": 5
}
